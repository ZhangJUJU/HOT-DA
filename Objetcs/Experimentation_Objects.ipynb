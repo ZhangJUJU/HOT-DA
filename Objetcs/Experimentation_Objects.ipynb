{
 "cells": [
  {
   "cell_type": "code",
   "execution_count": 1,
   "metadata": {},
   "outputs": [],
   "source": [
    "import numpy as np\n",
    "import ot\n",
    "import matplotlib.pyplot as plt\n",
    "import pandas as pd\n",
    "from sklearn.metrics import accuracy_score\n",
    "from scipy.io import savemat\n",
    "import glob\n",
    "import os\n",
    "from sklearn.metrics import classification_report\n",
    "import cv2,os\n",
    "from sklearn.cluster import SpectralClustering\n",
    "from sklearn.model_selection import train_test_split\n",
    "from sklearn.metrics import accuracy_score\n",
    "from sklearn.metrics import confusion_matrix\n",
    "from sklearn.metrics import classification_report\n",
    "import seaborn as sns\n",
    "import warnings\n",
    "import scipy as sp\n",
    "from sklearn import preprocessing\n",
    "from sklearn.neighbors import KNeighborsClassifier\n",
    "import sys\n",
    "sys.path.append('../')\n",
    "from HOTDA import *\n",
    "warnings.filterwarnings(\"ignore\")\n",
    "%matplotlib notebook"
   ]
  },
  {
   "cell_type": "code",
   "execution_count": 4,
   "metadata": {
    "scrolled": false
   },
   "outputs": [
    {
     "name": "stdout",
     "output_type": "stream",
     "text": [
      "training..\n"
     ]
    }
   ],
   "source": [
    "print('training..')\n",
    "Score_mean=[]\n",
    "domain=[]\n",
    "for file in glob.glob(os.path.join('data/', '', '*')):\n",
    "    data    = sp.io.loadmat(file)\n",
    "    Xsource = data['Xsource'].astype(float)\n",
    "    Ysource = data['Ysource'].astype(float)\n",
    "    XTarget = data['XTarget'].astype(float)\n",
    "    Xtest   = data['Xtest'].astype(float)\n",
    "    Ytest   = data['Ytest'].astype(float)\n",
    "    Score=[]\n",
    "    for i in range(10):\n",
    "        clustering  = SpectralClustering(n_clusters=10, eigen_solver='arpack', assign_labels='kmeans',affinity=\"nearest_neighbors\",n_neighbors=7).fit(XTarget)\n",
    "        S,a,mu,y_Transported_S=Source_target_processing(Xsource,Ysource[0])\n",
    "        T,b,nu,yxss=Source_target_processing(XTarget,clustering.labels_)\n",
    "        HOT,W=Hot(S,a,mu,T,b,nu,100,100)\n",
    "        X_Transported_S=Mapping(S,T,a,b,HOT,17)\n",
    "        classifier =  KNeighborsClassifier(n_neighbors=1)\n",
    "        classifier.fit(X_Transported_S,y_Transported_S)\n",
    "        Score.append(classifier.score(Xtest,Ytest[0]))\n",
    "    Score_mean.append(np.array(Score).mean())\n",
    "    domain.append(''+file.split('_')[0][5]+'->'+file.split('_')[1][0])    "
   ]
  },
  {
   "cell_type": "code",
   "execution_count": 5,
   "metadata": {},
   "outputs": [],
   "source": [
    "df = pd.DataFrame({\n",
    "     'Domain': domain,\n",
    "     'Score': Score_mean})\n",
    "df.to_csv(\"Result.csv\", sep=';', index=False)"
   ]
  },
  {
   "cell_type": "code",
   "execution_count": 6,
   "metadata": {},
   "outputs": [
    {
     "data": {
      "text/html": [
       "<div>\n",
       "<style scoped>\n",
       "    .dataframe tbody tr th:only-of-type {\n",
       "        vertical-align: middle;\n",
       "    }\n",
       "\n",
       "    .dataframe tbody tr th {\n",
       "        vertical-align: top;\n",
       "    }\n",
       "\n",
       "    .dataframe thead th {\n",
       "        text-align: right;\n",
       "    }\n",
       "</style>\n",
       "<table border=\"1\" class=\"dataframe\">\n",
       "  <thead>\n",
       "    <tr style=\"text-align: right;\">\n",
       "      <th></th>\n",
       "      <th>Domain</th>\n",
       "      <th>Score</th>\n",
       "    </tr>\n",
       "  </thead>\n",
       "  <tbody>\n",
       "    <tr>\n",
       "      <td>0</td>\n",
       "      <td>A-&gt;C</td>\n",
       "      <td>0.800000</td>\n",
       "    </tr>\n",
       "    <tr>\n",
       "      <td>1</td>\n",
       "      <td>A-&gt;D</td>\n",
       "      <td>0.925234</td>\n",
       "    </tr>\n",
       "    <tr>\n",
       "      <td>2</td>\n",
       "      <td>A-&gt;W</td>\n",
       "      <td>0.962449</td>\n",
       "    </tr>\n",
       "    <tr>\n",
       "      <td>3</td>\n",
       "      <td>C-&gt;A</td>\n",
       "      <td>0.921806</td>\n",
       "    </tr>\n",
       "    <tr>\n",
       "      <td>4</td>\n",
       "      <td>C-&gt;D</td>\n",
       "      <td>0.844860</td>\n",
       "    </tr>\n",
       "    <tr>\n",
       "      <td>5</td>\n",
       "      <td>C-&gt;W</td>\n",
       "      <td>0.945306</td>\n",
       "    </tr>\n",
       "    <tr>\n",
       "      <td>6</td>\n",
       "      <td>D-&gt;A</td>\n",
       "      <td>0.913326</td>\n",
       "    </tr>\n",
       "    <tr>\n",
       "      <td>7</td>\n",
       "      <td>D-&gt;C</td>\n",
       "      <td>0.776887</td>\n",
       "    </tr>\n",
       "    <tr>\n",
       "      <td>8</td>\n",
       "      <td>D-&gt;W</td>\n",
       "      <td>0.960816</td>\n",
       "    </tr>\n",
       "    <tr>\n",
       "      <td>9</td>\n",
       "      <td>W-&gt;A</td>\n",
       "      <td>0.918502</td>\n",
       "    </tr>\n",
       "    <tr>\n",
       "      <td>10</td>\n",
       "      <td>W-&gt;C</td>\n",
       "      <td>0.784063</td>\n",
       "    </tr>\n",
       "    <tr>\n",
       "      <td>11</td>\n",
       "      <td>W-&gt;D</td>\n",
       "      <td>0.925234</td>\n",
       "    </tr>\n",
       "  </tbody>\n",
       "</table>\n",
       "</div>"
      ],
      "text/plain": [
       "   Domain     Score\n",
       "0    A->C  0.800000\n",
       "1    A->D  0.925234\n",
       "2    A->W  0.962449\n",
       "3    C->A  0.921806\n",
       "4    C->D  0.844860\n",
       "5    C->W  0.945306\n",
       "6    D->A  0.913326\n",
       "7    D->C  0.776887\n",
       "8    D->W  0.960816\n",
       "9    W->A  0.918502\n",
       "10   W->C  0.784063\n",
       "11   W->D  0.925234"
      ]
     },
     "execution_count": 6,
     "metadata": {},
     "output_type": "execute_result"
    }
   ],
   "source": [
    "df"
   ]
  }
 ],
 "metadata": {
  "kernelspec": {
   "display_name": "Python 3",
   "language": "python",
   "name": "python3"
  },
  "language_info": {
   "codemirror_mode": {
    "name": "ipython",
    "version": 3
   },
   "file_extension": ".py",
   "mimetype": "text/x-python",
   "name": "python",
   "nbconvert_exporter": "python",
   "pygments_lexer": "ipython3",
   "version": "3.7.4"
  }
 },
 "nbformat": 4,
 "nbformat_minor": 4
}
